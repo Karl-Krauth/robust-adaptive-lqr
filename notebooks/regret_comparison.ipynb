{
 "cells": [
  {
   "cell_type": "code",
   "execution_count": 7,
   "metadata": {},
   "outputs": [
    {
     "name": "stderr",
     "output_type": "stream",
     "text": [
      "DEBUG:matplotlib.backends:backend module://ipykernel.pylab.backend_inline version unknown\n"
     ]
    }
   ],
   "source": [
    "%load_ext autoreload\n",
    "%autoreload 2\n",
    "%matplotlib inline\n",
    "\n",
    "import numpy as np\n",
    "import time\n",
    "import logging\n",
    "from multiprocessing import Pool, cpu_count\n",
    "import traceback\n",
    "\n",
    "import sys\n",
    "sys.path.append('../python')\n",
    "\n",
    "import utils\n",
    "import examples\n",
    "from optimal import OptimalStrategy\n",
    "from nominal import NominalStrategy\n",
    "from ofu import OFUStrategy\n",
    "from sls import SLS_FIRStrategy, SLS_CommonLyapunovStrategy, sls_common_lyapunov, SLSInfeasibleException\n",
    "from ts import TSStrategy\n",
    "from lspi import LSPIStrategy\n",
    "from mflq import MFLQStrategy\n",
    "\n",
    "import matplotlib.pylab as plt\n",
    "import seaborn as sns\n",
    "sns.set_style('ticks')\n",
    "\n",
    "logging.basicConfig(level=logging.DEBUG)"
   ]
  },
  {
   "cell_type": "code",
   "execution_count": 8,
   "metadata": {},
   "outputs": [],
   "source": [
    "# PARAMETERS\n",
    "rng = np.random\n",
    "horizon = 10000\n",
    "trials_per_method = 10"
   ]
  },
  {
   "cell_type": "markdown",
   "metadata": {},
   "source": [
    "## Defining True System Dynamics"
   ]
  },
  {
   "cell_type": "code",
   "execution_count": 9,
   "metadata": {},
   "outputs": [],
   "source": [
    "def set_up_example(A_star, B_star, qr_ratio, prime_horizon, prime_excitation, sigma_excitation=0.1):\n",
    "    n,p = B_star.shape\n",
    "    # design a stabilizing controller\n",
    "    _, K_init = utils.dlqr(A_star, B_star, 1e-3*np.eye(n), np.eye(p))\n",
    "    assert utils.spectral_radius(A_star + B_star.dot(K_init)) < 1\n",
    "    Q = qr_ratio * np.eye(n)\n",
    "    R = np.eye(p)\n",
    "    sigma_w = 1\n",
    "    return A_star, B_star, K_init, Q, R, prime_horizon, prime_excitation, sigma_excitation, sigma_w\n",
    "\n",
    "def laplacian_dynamics(qr_ratio=1e1, prime_horizon=100, prime_excitation=1):\n",
    "    A_star, B_star = examples.unstable_laplacian_dynamics()\n",
    "    return set_up_example(A_star, B_star, qr_ratio, prime_horizon, prime_excitation)\n",
    "\n",
    "def unstable_dynamics(qr_ratio=1e1, prime_horizon=250, prime_excitation=2):\n",
    "    A_star, B_star = examples.transient_dynamics(diag_coeff=2, upperdiag=4)\n",
    "    return set_up_example(A_star, B_star, qr_ratio, prime_horizon, prime_excitation, sigma_excitation=0.1)"
   ]
  },
  {
   "cell_type": "code",
   "execution_count": 10,
   "metadata": {
    "scrolled": true
   },
   "outputs": [
    {
     "name": "stdout",
     "output_type": "stream",
     "text": [
      "[[1.01 0.01 0.  ]\n",
      " [0.01 1.01 0.01]\n",
      " [0.   0.01 1.01]]\n",
      "[[1. 0. 0.]\n",
      " [0. 1. 0.]\n",
      " [0. 0. 1.]]\n",
      "[[-0.04373095 -0.01250864 -0.00126936]\n",
      " [-0.01250864 -0.04500031 -0.01250864]\n",
      " [-0.00126936 -0.01250864 -0.04373095]]\n",
      "prime_horizon 1000\n",
      "prime_excitation 1\n",
      "sigma_excitation 0.1\n"
     ]
    }
   ],
   "source": [
    "example = laplacian_dynamics() # unstable_dynamics()\n",
    "A_star, B_star, K_init, Q, R, prime_horizon, prime_excitation, sigma_excitation, sigma_w = example\n",
    "prime_horizon = 1000\n",
    "\n",
    "print(A_star)\n",
    "print(B_star)\n",
    "print(K_init)\n",
    "print(\"prime_horizon\", prime_horizon)\n",
    "print(\"prime_excitation\", prime_excitation)\n",
    "print(\"sigma_excitation\", sigma_excitation)"
   ]
  },
  {
   "cell_type": "markdown",
   "metadata": {},
   "source": [
    "# Constructors for different adaptive methods"
   ]
  },
  {
   "cell_type": "code",
   "execution_count": 11,
   "metadata": {},
   "outputs": [],
   "source": [
    "def optimal_ctor():\n",
    "    return OptimalStrategy(Q=Q, R=R, A_star=A_star, B_star=B_star, sigma_w=sigma_w)\n",
    "\n",
    "def nominal_ctor():\n",
    "    return NominalStrategy(Q=Q,\n",
    "                          R=R,\n",
    "                          A_star=A_star,\n",
    "                          B_star=B_star,\n",
    "                          sigma_w=sigma_w,\n",
    "                          sigma_explore=sigma_excitation,\n",
    "                          reg=1e-5,\n",
    "                          epoch_multiplier=10, rls_lam=None)\n",
    "\n",
    "def ofu_ctor():\n",
    "    return OFUStrategy(Q=Q,\n",
    "                  R=R,\n",
    "                  A_star=A_star,\n",
    "                  B_star=B_star,\n",
    "                  sigma_w=sigma_w,\n",
    "                  reg=1e-5,\n",
    "                  actual_error_multiplier=1, rls_lam=None)\n",
    "\n",
    "def ts_ctor():\n",
    "    return TSStrategy(Q=Q,\n",
    "                  R=R,\n",
    "                  A_star=A_star,\n",
    "                  B_star=B_star,\n",
    "                  sigma_w=sigma_w,\n",
    "                  reg=1e-5,\n",
    "                  tau=500,\n",
    "                  actual_error_multiplier=1, rls_lam=None)\n",
    "\n",
    "def sls_fir_ctor():\n",
    "    return SLS_FIRStrategy(Q=Q,\n",
    "                  R=R,\n",
    "                  A_star=A_star,\n",
    "                  B_star=B_star,\n",
    "                  sigma_w=sigma_w,\n",
    "                  sigma_explore=sigma_excitation,\n",
    "                  reg=1e-5,\n",
    "                  epoch_multiplier=10,\n",
    "                  truncation_length=12,\n",
    "                  actual_error_multiplier=1, rls_lam=None)\n",
    "\n",
    "def sls_cl_ctor():\n",
    "    return SLS_CommonLyapunovStrategy(Q=Q,\n",
    "                  R=R,\n",
    "                  A_star=A_star,\n",
    "                  B_star=B_star,\n",
    "                  sigma_w=sigma_w,\n",
    "                  sigma_explore=sigma_excitation,\n",
    "                  reg=1e-5,\n",
    "                  epoch_multiplier=10,\n",
    "                  actual_error_multiplier=1, rls_lam=None)\n",
    "\n",
    "def lspi_ctor():\n",
    "    return LSPIStrategy(Q=Q,\n",
    "                        R=R,\n",
    "                        A_star=A_star,\n",
    "                        B_star=B_star,\n",
    "                        sigma_w=sigma_w,\n",
    "                        sigma_explore=sigma_excitation,\n",
    "                        epoch_multiplier=10,\n",
    "                        num_PI_iters=3,\n",
    "                        K_init=K_init)\n",
    "def mflq_ctor():\n",
    "    return MFLQStrategy(Q=Q,\n",
    "                        R=R,\n",
    "                        A_star=A_star,\n",
    "                        B_star=B_star,\n",
    "                        sigma_w=sigma_w,\n",
    "                        sigma_explore=sigma_excitation,\n",
    "                        epoch_length=0.5 * horizon ** (3.0/ 4),\n",
    "                        exploration_period=horizon ** (1.0 / 4),\n",
    "                        K_init=K_init)"
   ]
  },
  {
   "cell_type": "markdown",
   "metadata": {},
   "source": [
    "# Helper methods for running in parallel"
   ]
  },
  {
   "cell_type": "code",
   "execution_count": 12,
   "metadata": {},
   "outputs": [],
   "source": [
    "prime_seed = 45727\n",
    "def run_one_trial(new_env_ctor, seed, prime_fixed=False):\n",
    "    rng = np.random.RandomState(seed)\n",
    "    if prime_fixed: # reducing variance\n",
    "        rng_prime = np.random.RandomState(prime_seed) \n",
    "    else:\n",
    "        rng_prime = rng\n",
    "    env = new_env_ctor()\n",
    "    env.reset(rng_prime)\n",
    "    env.prime(prime_horizon, K_init, prime_excitation, rng_prime)\n",
    "    regret = np.array([env.step(rng) for _ in range(horizon)])\n",
    "    env.complete_epoch(rng)\n",
    "    err, cost = env.get_statistics(iteration_based=True)\n",
    "    return regret, err, cost\n",
    "\n",
    "def spawn_invocation(method, p, prime_fixed=False):\n",
    "    seed = np.random.randint(0xFFFFFFFF)\n",
    "    ctor = {\n",
    "        'optimal': optimal_ctor,\n",
    "        'nominal': nominal_ctor,\n",
    "        'ofu': ofu_ctor,\n",
    "        'ts': ts_ctor,\n",
    "        'sls_fir': sls_fir_ctor,\n",
    "        'sls_cl': sls_cl_ctor,\n",
    "        'lspi': lspi_ctor,\n",
    "        'mflq': mflq_ctor,\n",
    "    }[method]\n",
    "    return (p.apply_async(run_one_trial, (ctor, seed, prime_fixed)), seed)\n",
    "\n",
    "def process_future_list(ftchs):\n",
    "    regrets = []\n",
    "    errors = []\n",
    "    costs = []\n",
    "    seeds = []\n",
    "    bad_invocations = 0\n",
    "    for ftch, seed in ftchs:\n",
    "        try:\n",
    "            reg, err, cost = ftch.get()\n",
    "        except Exception as e:\n",
    "            traceback.print_exc()\n",
    "            bad_invocations += 1\n",
    "            continue\n",
    "        regrets.append(reg)\n",
    "        errors.append(err)\n",
    "        costs.append(cost)\n",
    "        seeds.append(seed)\n",
    "    return np.array(regrets), np.array(errors), np.array(costs), np.array(seeds), bad_invocations"
   ]
  },
  {
   "cell_type": "markdown",
   "metadata": {},
   "source": [
    "# Running experiments and plotting results"
   ]
  },
  {
   "cell_type": "code",
   "execution_count": 13,
   "metadata": {},
   "outputs": [
    {
     "name": "stderr",
     "output_type": "stream",
     "text": [
      "INFO:mflq:_design_controller(epoch=0): n_transitions=1000\n",
      "INFO:mflq:_design_controller(epoch=0): n_transitions=1000\n",
      "INFO:mflq:_design_controller(epoch=0): n_transitions=1000\n",
      "INFO:mflq:_design_controller(epoch=0): n_transitions=1000\n",
      "INFO:mflq:_design_controller(epoch=0): n_transitions=1000\n",
      "INFO:mflq:_design_controller(epoch=0): n_transitions=1000\n"
     ]
    },
    {
     "name": "stdout",
     "output_type": "stream",
     "text": [
      "phis shape (1000, 9)\n",
      "phis shape (1000, 9)\n",
      "phis 6\n",
      "Psis shape (1000, 36)\n",
      "phis 6\n",
      "phis shape (1000, 9)\n",
      "Psis shape (1000, 36)\n",
      "phis shape (1000, 9)\n",
      "phis 6\n",
      "Psis shape (1000, 36)\n",
      "phis 6\n",
      "Psis shape (1000, 36)\n",
      "phis shape (1000, 9)\n",
      "phis 6\n",
      "Psis shape (1000, 36)\n",
      "Psis 21\n",
      "Psis 21\n"
     ]
    },
    {
     "name": "stderr",
     "output_type": "stream",
     "text": [
      "../python/mflq.py:128: FutureWarning: `rcond` parameter will change to the default of machine precision times ``max(M, N)`` where M and N are the input matrix dimensions.\n",
      "To use the future default and silence this warning we advise to pass `rcond=None`, to keep using the old, explicitly pass `rcond=-1`.\n",
      "  hhat = np.linalg.lstsq(Amat, bmat)[0]\n"
     ]
    },
    {
     "name": "stdout",
     "output_type": "stream",
     "text": [
      "Psis 21\n"
     ]
    },
    {
     "name": "stderr",
     "output_type": "stream",
     "text": [
      "../python/mflq.py:128: FutureWarning: `rcond` parameter will change to the default of machine precision times ``max(M, N)`` where M and N are the input matrix dimensions.\n",
      "To use the future default and silence this warning we advise to pass `rcond=None`, to keep using the old, explicitly pass `rcond=-1`.\n",
      "  hhat = np.linalg.lstsq(Amat, bmat)[0]\n",
      "../python/mflq.py:128: FutureWarning: `rcond` parameter will change to the default of machine precision times ``max(M, N)`` where M and N are the input matrix dimensions.\n",
      "To use the future default and silence this warning we advise to pass `rcond=None`, to keep using the old, explicitly pass `rcond=-1`.\n",
      "  hhat = np.linalg.lstsq(Amat, bmat)[0]\n"
     ]
    },
    {
     "name": "stdout",
     "output_type": "stream",
     "text": [
      "Psis 21\n"
     ]
    },
    {
     "name": "stderr",
     "output_type": "stream",
     "text": [
      "INFO:mflq:_design_controller(epoch=0): n_transitions=1000\n",
      "INFO:mflq:_design_controller(epoch=0): n_transitions=1000\n"
     ]
    },
    {
     "name": "stdout",
     "output_type": "stream",
     "text": [
      "Psis 21\n",
      "phis shape (1000, 9)\n"
     ]
    },
    {
     "name": "stderr",
     "output_type": "stream",
     "text": [
      "INFO:mflq:_design_controller(epoch=0): n_transitions=1000\n"
     ]
    },
    {
     "name": "stdout",
     "output_type": "stream",
     "text": [
      "phis 6\n",
      "Psis shape (1000, 36)\n"
     ]
    },
    {
     "name": "stderr",
     "output_type": "stream",
     "text": [
      "../python/mflq.py:128: FutureWarning: `rcond` parameter will change to the default of machine precision times ``max(M, N)`` where M and N are the input matrix dimensions.\n",
      "To use the future default and silence this warning we advise to pass `rcond=None`, to keep using the old, explicitly pass `rcond=-1`.\n",
      "  hhat = np.linalg.lstsq(Amat, bmat)[0]\n"
     ]
    },
    {
     "name": "stdout",
     "output_type": "stream",
     "text": [
      "phis shape (1000, 9)\n",
      "phis shape (1000, 9)\n",
      "phis 6\n",
      "Psis shape (1000, 36)\n"
     ]
    },
    {
     "name": "stderr",
     "output_type": "stream",
     "text": [
      "../python/mflq.py:128: FutureWarning: `rcond` parameter will change to the default of machine precision times ``max(M, N)`` where M and N are the input matrix dimensions.\n",
      "To use the future default and silence this warning we advise to pass `rcond=None`, to keep using the old, explicitly pass `rcond=-1`.\n",
      "  hhat = np.linalg.lstsq(Amat, bmat)[0]\n"
     ]
    },
    {
     "name": "stdout",
     "output_type": "stream",
     "text": [
      "phis 6\n",
      "phis shape (1000, 9)\n"
     ]
    },
    {
     "name": "stderr",
     "output_type": "stream",
     "text": [
      "INFO:mflq:_design_controller(epoch=0): n_transitions=1000\n"
     ]
    },
    {
     "name": "stdout",
     "output_type": "stream",
     "text": [
      "Psis shape (1000, 36)\n",
      "phis 6\n",
      "Psis shape (1000, 36)\n",
      "phis shape (1000, 9)\n",
      "phis 6\n",
      "Psis shape (1000, 36)\n",
      "Psis 21\n",
      "Psis 21\n",
      "Psis 21\n"
     ]
    },
    {
     "name": "stderr",
     "output_type": "stream",
     "text": [
      "multiprocessing.pool.RemoteTraceback: \n",
      "\"\"\"\n",
      "Traceback (most recent call last):\n",
      "  File \"/home/karlk/bin/anaconda3/lib/python3.6/multiprocessing/pool.py\", line 119, in worker\n",
      "    result = (True, func(*args, **kwds))\n",
      "  File \"<ipython-input-12-2e9edc92baef>\", line 10, in run_one_trial\n",
      "    env.prime(prime_horizon, K_init, prime_excitation, rng_prime)\n",
      "  File \"../python/adaptive.py\", line 168, in prime\n",
      "    rng)\n",
      "  File \"../python/mflq.py\", line 113, in _design_controller\n",
      "    self._sigma_w, n)\n",
      "  File \"../python/mflq.py\", line 132, in _estimate_G\n",
      "    ghat = scipy.linalg.solve(Psis.T @ Psis, Psis.T @ (costs + (Phis_plus - W) @ hhat_proj), sym_pos=True)\n",
      "  File \"/home/karlk/bin/anaconda3/lib/python3.6/site-packages/scipy/linalg/basic.py\", line 250, in solve\n",
      "    _solve_check(n, info)\n",
      "  File \"/home/karlk/bin/anaconda3/lib/python3.6/site-packages/scipy/linalg/basic.py\", line 31, in _solve_check\n",
      "    raise LinAlgError('Matrix is singular.')\n",
      "numpy.linalg.linalg.LinAlgError: Matrix is singular.\n",
      "\"\"\"\n",
      "\n",
      "The above exception was the direct cause of the following exception:\n",
      "\n",
      "Traceback (most recent call last):\n",
      "  File \"<ipython-input-12-2e9edc92baef>\", line 38, in process_future_list\n",
      "    reg, err, cost = ftch.get()\n",
      "  File \"/home/karlk/bin/anaconda3/lib/python3.6/multiprocessing/pool.py\", line 644, in get\n",
      "    raise self._value\n",
      "numpy.linalg.linalg.LinAlgError: Matrix is singular.\n",
      "multiprocessing.pool.RemoteTraceback: \n",
      "\"\"\"\n",
      "Traceback (most recent call last):\n",
      "  File \"/home/karlk/bin/anaconda3/lib/python3.6/multiprocessing/pool.py\", line 119, in worker\n",
      "    result = (True, func(*args, **kwds))\n",
      "  File \"<ipython-input-12-2e9edc92baef>\", line 10, in run_one_trial\n",
      "    env.prime(prime_horizon, K_init, prime_excitation, rng_prime)\n",
      "  File \"../python/adaptive.py\", line 168, in prime\n",
      "    rng)\n",
      "  File \"../python/mflq.py\", line 113, in _design_controller\n",
      "    self._sigma_w, n)\n",
      "  File \"../python/mflq.py\", line 132, in _estimate_G\n",
      "    ghat = scipy.linalg.solve(Psis.T @ Psis, Psis.T @ (costs + (Phis_plus - W) @ hhat_proj), sym_pos=True)\n",
      "  File \"/home/karlk/bin/anaconda3/lib/python3.6/site-packages/scipy/linalg/basic.py\", line 250, in solve\n",
      "    _solve_check(n, info)\n",
      "  File \"/home/karlk/bin/anaconda3/lib/python3.6/site-packages/scipy/linalg/basic.py\", line 31, in _solve_check\n",
      "    raise LinAlgError('Matrix is singular.')\n",
      "numpy.linalg.linalg.LinAlgError: Matrix is singular.\n",
      "\"\"\"\n",
      "\n",
      "The above exception was the direct cause of the following exception:\n",
      "\n",
      "Traceback (most recent call last):\n",
      "  File \"<ipython-input-12-2e9edc92baef>\", line 38, in process_future_list\n",
      "    reg, err, cost = ftch.get()\n",
      "  File \"/home/karlk/bin/anaconda3/lib/python3.6/multiprocessing/pool.py\", line 644, in get\n",
      "    raise self._value\n",
      "numpy.linalg.linalg.LinAlgError: Matrix is singular.\n",
      "multiprocessing.pool.RemoteTraceback: \n",
      "\"\"\"\n",
      "Traceback (most recent call last):\n",
      "  File \"/home/karlk/bin/anaconda3/lib/python3.6/multiprocessing/pool.py\", line 119, in worker\n",
      "    result = (True, func(*args, **kwds))\n",
      "  File \"<ipython-input-12-2e9edc92baef>\", line 10, in run_one_trial\n",
      "    env.prime(prime_horizon, K_init, prime_excitation, rng_prime)\n",
      "  File \"../python/adaptive.py\", line 168, in prime\n",
      "    rng)\n",
      "  File \"../python/mflq.py\", line 113, in _design_controller\n",
      "    self._sigma_w, n)\n",
      "  File \"../python/mflq.py\", line 132, in _estimate_G\n",
      "    ghat = scipy.linalg.solve(Psis.T @ Psis, Psis.T @ (costs + (Phis_plus - W) @ hhat_proj), sym_pos=True)\n",
      "  File \"/home/karlk/bin/anaconda3/lib/python3.6/site-packages/scipy/linalg/basic.py\", line 250, in solve\n",
      "    _solve_check(n, info)\n",
      "  File \"/home/karlk/bin/anaconda3/lib/python3.6/site-packages/scipy/linalg/basic.py\", line 31, in _solve_check\n",
      "    raise LinAlgError('Matrix is singular.')\n",
      "numpy.linalg.linalg.LinAlgError: Matrix is singular.\n",
      "\"\"\"\n",
      "\n",
      "The above exception was the direct cause of the following exception:\n",
      "\n",
      "Traceback (most recent call last):\n",
      "  File \"<ipython-input-12-2e9edc92baef>\", line 38, in process_future_list\n",
      "    reg, err, cost = ftch.get()\n",
      "  File \"/home/karlk/bin/anaconda3/lib/python3.6/multiprocessing/pool.py\", line 644, in get\n",
      "    raise self._value\n",
      "numpy.linalg.linalg.LinAlgError: Matrix is singular.\n"
     ]
    },
    {
     "name": "stdout",
     "output_type": "stream",
     "text": [
      "Psis 21\n",
      "Psis 21\n"
     ]
    },
    {
     "name": "stderr",
     "output_type": "stream",
     "text": [
      "../python/mflq.py:128: FutureWarning: `rcond` parameter will change to the default of machine precision times ``max(M, N)`` where M and N are the input matrix dimensions.\n",
      "To use the future default and silence this warning we advise to pass `rcond=None`, to keep using the old, explicitly pass `rcond=-1`.\n",
      "  hhat = np.linalg.lstsq(Amat, bmat)[0]\n"
     ]
    },
    {
     "name": "stdout",
     "output_type": "stream",
     "text": [
      "finished execution in 1.9454333782196045 seconds\n"
     ]
    },
    {
     "name": "stderr",
     "output_type": "stream",
     "text": [
      "multiprocessing.pool.RemoteTraceback: \n",
      "\"\"\"\n",
      "Traceback (most recent call last):\n",
      "  File \"/home/karlk/bin/anaconda3/lib/python3.6/multiprocessing/pool.py\", line 119, in worker\n",
      "    result = (True, func(*args, **kwds))\n",
      "  File \"<ipython-input-12-2e9edc92baef>\", line 10, in run_one_trial\n",
      "    env.prime(prime_horizon, K_init, prime_excitation, rng_prime)\n",
      "  File \"../python/adaptive.py\", line 168, in prime\n",
      "    rng)\n",
      "  File \"../python/mflq.py\", line 113, in _design_controller\n",
      "    self._sigma_w, n)\n",
      "  File \"../python/mflq.py\", line 132, in _estimate_G\n",
      "    ghat = scipy.linalg.solve(Psis.T @ Psis, Psis.T @ (costs + (Phis_plus - W) @ hhat_proj), sym_pos=True)\n",
      "  File \"/home/karlk/bin/anaconda3/lib/python3.6/site-packages/scipy/linalg/basic.py\", line 250, in solve\n",
      "    _solve_check(n, info)\n",
      "  File \"/home/karlk/bin/anaconda3/lib/python3.6/site-packages/scipy/linalg/basic.py\", line 31, in _solve_check\n",
      "    raise LinAlgError('Matrix is singular.')\n",
      "numpy.linalg.linalg.LinAlgError: Matrix is singular.\n",
      "\"\"\"\n",
      "\n",
      "The above exception was the direct cause of the following exception:\n",
      "\n",
      "Traceback (most recent call last):\n",
      "  File \"<ipython-input-12-2e9edc92baef>\", line 38, in process_future_list\n",
      "    reg, err, cost = ftch.get()\n",
      "  File \"/home/karlk/bin/anaconda3/lib/python3.6/multiprocessing/pool.py\", line 644, in get\n",
      "    raise self._value\n",
      "numpy.linalg.linalg.LinAlgError: Matrix is singular.\n",
      "multiprocessing.pool.RemoteTraceback: \n",
      "\"\"\"\n",
      "Traceback (most recent call last):\n",
      "  File \"/home/karlk/bin/anaconda3/lib/python3.6/multiprocessing/pool.py\", line 119, in worker\n",
      "    result = (True, func(*args, **kwds))\n",
      "  File \"<ipython-input-12-2e9edc92baef>\", line 10, in run_one_trial\n",
      "    env.prime(prime_horizon, K_init, prime_excitation, rng_prime)\n",
      "  File \"../python/adaptive.py\", line 168, in prime\n",
      "    rng)\n",
      "  File \"../python/mflq.py\", line 113, in _design_controller\n",
      "    self._sigma_w, n)\n",
      "  File \"../python/mflq.py\", line 132, in _estimate_G\n",
      "    ghat = scipy.linalg.solve(Psis.T @ Psis, Psis.T @ (costs + (Phis_plus - W) @ hhat_proj), sym_pos=True)\n",
      "  File \"/home/karlk/bin/anaconda3/lib/python3.6/site-packages/scipy/linalg/basic.py\", line 250, in solve\n",
      "    _solve_check(n, info)\n",
      "  File \"/home/karlk/bin/anaconda3/lib/python3.6/site-packages/scipy/linalg/basic.py\", line 31, in _solve_check\n",
      "    raise LinAlgError('Matrix is singular.')\n",
      "numpy.linalg.linalg.LinAlgError: Matrix is singular.\n",
      "\"\"\"\n",
      "\n",
      "The above exception was the direct cause of the following exception:\n",
      "\n",
      "Traceback (most recent call last):\n",
      "  File \"<ipython-input-12-2e9edc92baef>\", line 38, in process_future_list\n",
      "    reg, err, cost = ftch.get()\n",
      "  File \"/home/karlk/bin/anaconda3/lib/python3.6/multiprocessing/pool.py\", line 644, in get\n",
      "    raise self._value\n",
      "numpy.linalg.linalg.LinAlgError: Matrix is singular.\n",
      "multiprocessing.pool.RemoteTraceback: \n",
      "\"\"\"\n",
      "Traceback (most recent call last):\n",
      "  File \"/home/karlk/bin/anaconda3/lib/python3.6/multiprocessing/pool.py\", line 119, in worker\n",
      "    result = (True, func(*args, **kwds))\n",
      "  File \"<ipython-input-12-2e9edc92baef>\", line 10, in run_one_trial\n",
      "    env.prime(prime_horizon, K_init, prime_excitation, rng_prime)\n",
      "  File \"../python/adaptive.py\", line 168, in prime\n",
      "    rng)\n",
      "  File \"../python/mflq.py\", line 113, in _design_controller\n",
      "    self._sigma_w, n)\n",
      "  File \"../python/mflq.py\", line 132, in _estimate_G\n",
      "    ghat = scipy.linalg.solve(Psis.T @ Psis, Psis.T @ (costs + (Phis_plus - W) @ hhat_proj), sym_pos=True)\n",
      "  File \"/home/karlk/bin/anaconda3/lib/python3.6/site-packages/scipy/linalg/basic.py\", line 250, in solve\n",
      "    _solve_check(n, info)\n",
      "  File \"/home/karlk/bin/anaconda3/lib/python3.6/site-packages/scipy/linalg/basic.py\", line 31, in _solve_check\n",
      "    raise LinAlgError('Matrix is singular.')\n",
      "numpy.linalg.linalg.LinAlgError: Matrix is singular.\n",
      "\"\"\"\n",
      "\n",
      "The above exception was the direct cause of the following exception:\n",
      "\n",
      "Traceback (most recent call last):\n",
      "  File \"<ipython-input-12-2e9edc92baef>\", line 38, in process_future_list\n",
      "    reg, err, cost = ftch.get()\n",
      "  File \"/home/karlk/bin/anaconda3/lib/python3.6/multiprocessing/pool.py\", line 644, in get\n",
      "    raise self._value\n",
      "numpy.linalg.linalg.LinAlgError: Matrix is singular.\n",
      "multiprocessing.pool.RemoteTraceback: \n",
      "\"\"\"\n",
      "Traceback (most recent call last):\n",
      "  File \"/home/karlk/bin/anaconda3/lib/python3.6/multiprocessing/pool.py\", line 119, in worker\n",
      "    result = (True, func(*args, **kwds))\n",
      "  File \"<ipython-input-12-2e9edc92baef>\", line 10, in run_one_trial\n",
      "    env.prime(prime_horizon, K_init, prime_excitation, rng_prime)\n",
      "  File \"../python/adaptive.py\", line 168, in prime\n",
      "    rng)\n",
      "  File \"../python/mflq.py\", line 113, in _design_controller\n",
      "    self._sigma_w, n)\n",
      "  File \"../python/mflq.py\", line 132, in _estimate_G\n",
      "    ghat = scipy.linalg.solve(Psis.T @ Psis, Psis.T @ (costs + (Phis_plus - W) @ hhat_proj), sym_pos=True)\n",
      "  File \"/home/karlk/bin/anaconda3/lib/python3.6/site-packages/scipy/linalg/basic.py\", line 250, in solve\n",
      "    _solve_check(n, info)\n",
      "  File \"/home/karlk/bin/anaconda3/lib/python3.6/site-packages/scipy/linalg/basic.py\", line 31, in _solve_check\n",
      "    raise LinAlgError('Matrix is singular.')\n",
      "numpy.linalg.linalg.LinAlgError: Matrix is singular.\n",
      "\"\"\"\n",
      "\n",
      "The above exception was the direct cause of the following exception:\n",
      "\n",
      "Traceback (most recent call last):\n",
      "  File \"<ipython-input-12-2e9edc92baef>\", line 38, in process_future_list\n",
      "    reg, err, cost = ftch.get()\n",
      "  File \"/home/karlk/bin/anaconda3/lib/python3.6/multiprocessing/pool.py\", line 644, in get\n",
      "    raise self._value\n",
      "numpy.linalg.linalg.LinAlgError: Matrix is singular.\n",
      "multiprocessing.pool.RemoteTraceback: \n",
      "\"\"\"\n",
      "Traceback (most recent call last):\n",
      "  File \"/home/karlk/bin/anaconda3/lib/python3.6/multiprocessing/pool.py\", line 119, in worker\n",
      "    result = (True, func(*args, **kwds))\n",
      "  File \"<ipython-input-12-2e9edc92baef>\", line 10, in run_one_trial\n",
      "    env.prime(prime_horizon, K_init, prime_excitation, rng_prime)\n",
      "  File \"../python/adaptive.py\", line 168, in prime\n",
      "    rng)\n",
      "  File \"../python/mflq.py\", line 113, in _design_controller\n",
      "    self._sigma_w, n)\n",
      "  File \"../python/mflq.py\", line 132, in _estimate_G\n",
      "    ghat = scipy.linalg.solve(Psis.T @ Psis, Psis.T @ (costs + (Phis_plus - W) @ hhat_proj), sym_pos=True)\n",
      "  File \"/home/karlk/bin/anaconda3/lib/python3.6/site-packages/scipy/linalg/basic.py\", line 250, in solve\n",
      "    _solve_check(n, info)\n",
      "  File \"/home/karlk/bin/anaconda3/lib/python3.6/site-packages/scipy/linalg/basic.py\", line 31, in _solve_check\n",
      "    raise LinAlgError('Matrix is singular.')\n",
      "numpy.linalg.linalg.LinAlgError: Matrix is singular.\n",
      "\"\"\"\n",
      "\n",
      "The above exception was the direct cause of the following exception:\n",
      "\n",
      "Traceback (most recent call last):\n",
      "  File \"<ipython-input-12-2e9edc92baef>\", line 38, in process_future_list\n",
      "    reg, err, cost = ftch.get()\n",
      "  File \"/home/karlk/bin/anaconda3/lib/python3.6/multiprocessing/pool.py\", line 644, in get\n",
      "    raise self._value\n",
      "numpy.linalg.linalg.LinAlgError: Matrix is singular.\n",
      "multiprocessing.pool.RemoteTraceback: \n",
      "\"\"\"\n",
      "Traceback (most recent call last):\n",
      "  File \"/home/karlk/bin/anaconda3/lib/python3.6/multiprocessing/pool.py\", line 119, in worker\n",
      "    result = (True, func(*args, **kwds))\n",
      "  File \"<ipython-input-12-2e9edc92baef>\", line 10, in run_one_trial\n",
      "    env.prime(prime_horizon, K_init, prime_excitation, rng_prime)\n",
      "  File \"../python/adaptive.py\", line 168, in prime\n",
      "    rng)\n",
      "  File \"../python/mflq.py\", line 113, in _design_controller\n",
      "    self._sigma_w, n)\n",
      "  File \"../python/mflq.py\", line 132, in _estimate_G\n",
      "    ghat = scipy.linalg.solve(Psis.T @ Psis, Psis.T @ (costs + (Phis_plus - W) @ hhat_proj), sym_pos=True)\n",
      "  File \"/home/karlk/bin/anaconda3/lib/python3.6/site-packages/scipy/linalg/basic.py\", line 250, in solve\n",
      "    _solve_check(n, info)\n",
      "  File \"/home/karlk/bin/anaconda3/lib/python3.6/site-packages/scipy/linalg/basic.py\", line 31, in _solve_check\n",
      "    raise LinAlgError('Matrix is singular.')\n",
      "numpy.linalg.linalg.LinAlgError: Matrix is singular.\n",
      "\"\"\"\n",
      "\n",
      "The above exception was the direct cause of the following exception:\n",
      "\n",
      "Traceback (most recent call last):\n",
      "  File \"<ipython-input-12-2e9edc92baef>\", line 38, in process_future_list\n",
      "    reg, err, cost = ftch.get()\n",
      "  File \"/home/karlk/bin/anaconda3/lib/python3.6/multiprocessing/pool.py\", line 644, in get\n",
      "    raise self._value\n",
      "numpy.linalg.linalg.LinAlgError: Matrix is singular.\n",
      "multiprocessing.pool.RemoteTraceback: \n",
      "\"\"\"\n",
      "Traceback (most recent call last):\n",
      "  File \"/home/karlk/bin/anaconda3/lib/python3.6/multiprocessing/pool.py\", line 119, in worker\n",
      "    result = (True, func(*args, **kwds))\n",
      "  File \"<ipython-input-12-2e9edc92baef>\", line 10, in run_one_trial\n",
      "    env.prime(prime_horizon, K_init, prime_excitation, rng_prime)\n",
      "  File \"../python/adaptive.py\", line 168, in prime\n",
      "    rng)\n",
      "  File \"../python/mflq.py\", line 113, in _design_controller\n",
      "    self._sigma_w, n)\n",
      "  File \"../python/mflq.py\", line 132, in _estimate_G\n",
      "    ghat = scipy.linalg.solve(Psis.T @ Psis, Psis.T @ (costs + (Phis_plus - W) @ hhat_proj), sym_pos=True)\n",
      "  File \"/home/karlk/bin/anaconda3/lib/python3.6/site-packages/scipy/linalg/basic.py\", line 250, in solve\n",
      "    _solve_check(n, info)\n",
      "  File \"/home/karlk/bin/anaconda3/lib/python3.6/site-packages/scipy/linalg/basic.py\", line 31, in _solve_check\n",
      "    raise LinAlgError('Matrix is singular.')\n",
      "numpy.linalg.linalg.LinAlgError: Matrix is singular.\n",
      "\"\"\"\n",
      "\n",
      "The above exception was the direct cause of the following exception:\n",
      "\n",
      "Traceback (most recent call last):\n",
      "  File \"<ipython-input-12-2e9edc92baef>\", line 38, in process_future_list\n",
      "    reg, err, cost = ftch.get()\n",
      "  File \"/home/karlk/bin/anaconda3/lib/python3.6/multiprocessing/pool.py\", line 644, in get\n",
      "    raise self._value\n",
      "numpy.linalg.linalg.LinAlgError: Matrix is singular.\n"
     ]
    }
   ],
   "source": [
    "#strategies = ['optimal', 'nominal', 'ofu', 'ts', 'sls_fir', 'lspi']\n",
    "strategies = ['mflq'] #['optimal', 'nominal', 'lspi', 'mflq']\n",
    "#strategies = ['optimal', 'nominal']\n",
    "start_time = time.time()\n",
    "with Pool(processes=cpu_count()) as p:\n",
    "    all_futures = [[spawn_invocation(method, p, prime_fixed=True) \n",
    "                    for _ in range(trials_per_method)] for method in strategies]\n",
    "    list_of_results = [process_future_list(ftchs) for ftchs in all_futures] \n",
    "print(\"finished execution in {} seconds\".format(time.time() - start_time))"
   ]
  },
  {
   "cell_type": "code",
   "execution_count": 1,
   "metadata": {},
   "outputs": [
    {
     "ename": "NameError",
     "evalue": "name 'trials_per_method' is not defined",
     "output_type": "error",
     "traceback": [
      "\u001b[0;31m---------------------------------------------------------------------------\u001b[0m",
      "\u001b[0;31mNameError\u001b[0m                                 Traceback (most recent call last)",
      "\u001b[0;32m<ipython-input-1-f27d15eb1a29>\u001b[0m in \u001b[0;36m<module>\u001b[0;34m()\u001b[0m\n\u001b[0;32m----> 1\u001b[0;31m \u001b[0mtrials_per_method\u001b[0m\u001b[0;34m\u001b[0m\u001b[0m\n\u001b[0m",
      "\u001b[0;31mNameError\u001b[0m: name 'trials_per_method' is not defined"
     ]
    }
   ],
   "source": [
    "trials_per_method"
   ]
  },
  {
   "cell_type": "code",
   "execution_count": 2,
   "metadata": {},
   "outputs": [],
   "source": [
    "def get_errorbars(regrets, q=10, percent_bad=0):\n",
    "    print(percent_bad)\n",
    "    median = np.percentile(regrets, q=50-percent_bad, axis=0)\n",
    "    low10 = np.percentile(regrets, q=q, axis=0)\n",
    "    high90 = np.percentile(regrets, q=100-(q-percent_bad), axis=0)\n",
    "    return median, low10, high90\n",
    "\n",
    "def plot_list_medquantile(datalist, legendlist=None, xlabel=None, ylabel=None, semilogy=False, \n",
    "                          loc='upper left', alpha=0.1, figsize=(8,4)):\n",
    "    rgblist = sns.color_palette('viridis', len(datalist))\n",
    "    plt.figure(figsize=figsize)\n",
    "    for idx, data in enumerate(datalist):\n",
    "        median, lower, higher = data\n",
    "        if semilogy:\n",
    "            plt.semilogy(range(len(median)), median, color=rgblist[idx], label=legendlist[idx])\n",
    "        else:\n",
    "            plt.plot(range(len(median)), median, color=rgblist[idx], label=legendlist[idx])\n",
    "        plt.fill_between(np.array(np.arange(len(median))), median.astype(np.float), \n",
    "                        higher.astype(np.float), color=rgblist[idx], alpha=alpha)\n",
    "    if legendlist is not None:\n",
    "        plt.legend(loc=loc)\n",
    "    if xlabel is not None:\n",
    "        plt.xlabel(xlabel)\n",
    "    if ylabel is not None:\n",
    "        plt.ylabel(ylabel)"
   ]
  },
  {
   "cell_type": "code",
   "execution_count": null,
   "metadata": {},
   "outputs": [],
   "source": []
  },
  {
   "cell_type": "code",
   "execution_count": 3,
   "metadata": {
    "scrolled": false
   },
   "outputs": [
    {
     "ename": "NameError",
     "evalue": "name 'strategies' is not defined",
     "output_type": "error",
     "traceback": [
      "\u001b[0;31m---------------------------------------------------------------------------\u001b[0m",
      "\u001b[0;31mNameError\u001b[0m                                 Traceback (most recent call last)",
      "\u001b[0;32m<ipython-input-3-b5f852d820a5>\u001b[0m in \u001b[0;36m<module>\u001b[0;34m()\u001b[0m\n\u001b[1;32m      5\u001b[0m \u001b[0;31m#res_rearranged =  [list_of_results[2], list_of_results[3], list_of_results[1], list_of_results[0], list_of_results[4], list_of_results[5]]\u001b[0m\u001b[0;34m\u001b[0m\u001b[0;34m\u001b[0m\u001b[0m\n\u001b[1;32m      6\u001b[0m \u001b[0;34m\u001b[0m\u001b[0m\n\u001b[0;32m----> 7\u001b[0;31m \u001b[0mstrat_rearranged\u001b[0m \u001b[0;34m=\u001b[0m \u001b[0mstrategies\u001b[0m\u001b[0;34m\u001b[0m\u001b[0m\n\u001b[0m\u001b[1;32m      8\u001b[0m \u001b[0mres_rearranged\u001b[0m \u001b[0;34m=\u001b[0m \u001b[0mlist_of_results\u001b[0m\u001b[0;34m\u001b[0m\u001b[0m\n\u001b[1;32m      9\u001b[0m \u001b[0;34m\u001b[0m\u001b[0m\n",
      "\u001b[0;31mNameError\u001b[0m: name 'strategies' is not defined"
     ]
    }
   ],
   "source": [
    "regretlist = []\n",
    "costs_list = []\n",
    "\n",
    "#strat_rearranged =  [strategies[2], strategies[3], strategies[1], strategies[0], strategies[4], strategies[5]]\n",
    "#res_rearranged =  [list_of_results[2], list_of_results[3], list_of_results[1], list_of_results[0], list_of_results[4], list_of_results[5]]\n",
    "\n",
    "strat_rearranged = strategies\n",
    "res_rearranged = list_of_results\n",
    "\n",
    "for name, result in zip(strat_rearranged, res_rearranged):\n",
    "    regrets, errors, costs, _, bad_invocations = result\n",
    "    print(name, \"bad_invocations\", bad_invocations)\n",
    "    percent_bad = bad_invocations / trials_per_method * 100\n",
    "    regretlist.append(get_errorbars(regrets, q=10, percent_bad=percent_bad))\n",
    "    costs_list.append(get_errorbars(costs, q=10, percent_bad=percent_bad))\n",
    "\n",
    "sns.set_palette(\"muted\")\n",
    "plot_list_medquantile(regretlist, legendlist=strat_rearranged, xlabel=\"Iteration\", ylabel=\"Regret\")\n",
    "plot_list_medquantile(costs_list, legendlist=strat_rearranged, xlabel=\"Iteration\", \n",
    "                      ylabel=\"Cost Suboptimality\", semilogy=True, loc='upper right')\n"
   ]
  },
  {
   "cell_type": "code",
   "execution_count": 4,
   "metadata": {},
   "outputs": [
    {
     "data": {
      "text/plain": [
       "[]"
      ]
     },
     "execution_count": 4,
     "metadata": {},
     "output_type": "execute_result"
    }
   ],
   "source": [
    "costs_list"
   ]
  },
  {
   "cell_type": "code",
   "execution_count": 5,
   "metadata": {},
   "outputs": [
    {
     "ename": "NameError",
     "evalue": "name 'run_one_trial' is not defined",
     "output_type": "error",
     "traceback": [
      "\u001b[0;31m---------------------------------------------------------------------------\u001b[0m",
      "\u001b[0;31mNameError\u001b[0m                                 Traceback (most recent call last)",
      "\u001b[0;32m<ipython-input-5-de73b2715a32>\u001b[0m in \u001b[0;36m<module>\u001b[0;34m()\u001b[0m\n\u001b[0;32m----> 1\u001b[0;31m \u001b[0mrun_one_trial\u001b[0m\u001b[0;34m(\u001b[0m\u001b[0mlspi_ctor\u001b[0m\u001b[0;34m,\u001b[0m \u001b[0;36m123\u001b[0m\u001b[0;34m,\u001b[0m \u001b[0;32mTrue\u001b[0m\u001b[0;34m)\u001b[0m\u001b[0;34m\u001b[0m\u001b[0m\n\u001b[0m",
      "\u001b[0;31mNameError\u001b[0m: name 'run_one_trial' is not defined"
     ]
    }
   ],
   "source": [
    "run_one_trial(lspi_ctor, 123, True)"
   ]
  },
  {
   "cell_type": "code",
   "execution_count": 6,
   "metadata": {},
   "outputs": [
    {
     "ename": "NameError",
     "evalue": "name 'run_one_trial' is not defined",
     "output_type": "error",
     "traceback": [
      "\u001b[0;31m---------------------------------------------------------------------------\u001b[0m",
      "\u001b[0;31mNameError\u001b[0m                                 Traceback (most recent call last)",
      "\u001b[0;32m<ipython-input-6-d95ab64c0b22>\u001b[0m in \u001b[0;36m<module>\u001b[0;34m()\u001b[0m\n\u001b[0;32m----> 1\u001b[0;31m \u001b[0mrun_one_trial\u001b[0m\u001b[0;34m(\u001b[0m\u001b[0mnominal_ctor\u001b[0m\u001b[0;34m,\u001b[0m \u001b[0;36m123\u001b[0m\u001b[0;34m,\u001b[0m \u001b[0;32mTrue\u001b[0m\u001b[0;34m)\u001b[0m\u001b[0;34m\u001b[0m\u001b[0m\n\u001b[0m",
      "\u001b[0;31mNameError\u001b[0m: name 'run_one_trial' is not defined"
     ]
    }
   ],
   "source": [
    "run_one_trial(nominal_ctor, 123, True)"
   ]
  },
  {
   "cell_type": "code",
   "execution_count": null,
   "metadata": {},
   "outputs": [],
   "source": []
  },
  {
   "cell_type": "code",
   "execution_count": null,
   "metadata": {},
   "outputs": [],
   "source": []
  },
  {
   "cell_type": "code",
   "execution_count": null,
   "metadata": {},
   "outputs": [],
   "source": []
  }
 ],
 "metadata": {
  "anaconda-cloud": {},
  "kernelspec": {
   "display_name": "Python 3",
   "language": "python",
   "name": "python3"
  },
  "language_info": {
   "codemirror_mode": {
    "name": "ipython",
    "version": 3
   },
   "file_extension": ".py",
   "mimetype": "text/x-python",
   "name": "python",
   "nbconvert_exporter": "python",
   "pygments_lexer": "ipython3",
   "version": "3.6.5"
  }
 },
 "nbformat": 4,
 "nbformat_minor": 2
}
